{
 "cells": [
  {
   "cell_type": "code",
   "execution_count": 1,
   "metadata": {
    "collapsed": true
   },
   "outputs": [],
   "source": [
    "import numpy as np\n",
    "import matplotlib.pyplot as plt \n",
    "%matplotlib inline\n"
   ]
  },
  {
   "cell_type": "markdown",
   "metadata": {},
   "source": [
    "# Homework 6\n",
    "\n",
    "Skipped project which counts as 2 problems.\n"
   ]
  },
  {
   "cell_type": "markdown",
   "metadata": {},
   "source": [
    "\n",
    "\n",
    "<h1><center> Exercise 3.18 Solution </center></h1>\n",
    "\n",
    "As we know that energy function $E$ is defined as\n",
    "\n",
    "$$E(t) = \\int_0^1 u^2(x,t) dx$$\n",
    "\n",
    "Following the book, we take the time derivative and we have\n",
    "\n",
    "$$\n",
    "E'(t) = \\frac{{d}}{dt} \\int_0^1 u^2(x,t)dx = \\int_0^1 \\frac{\\partial}{\\partial t} u^2(x,t) dx = 2 \\int_0^1  u(x,t) u_t(x,t) dx $$\n",
    "\n",
    "$$= 2 \\int_0^1  u(a(x, t, u)u_x )_x dx $$\n",
    "\n",
    "We then use integration by parts to solve it\n",
    "\n",
    "$$\n",
    "2 \\int_0^1 u(a(x, t, u)u_x )_x dx $$\n",
    "\n",
    "$$= 2[au(x,t)u_x(x,t)]_0^1 - 2 \\int_0^1  a(x, t, u)(u_x(x,t))^2  dx $$\n",
    "\n",
    "$$= - 2 \\int_0^1 a(x, t, u)(u_x(x,t))^2  dx \\leq 0$$\n",
    "\n",
    "since $a$ is strictly positive.\n",
    "\n",
    "Therefore, we can that $E(t)$ is a nonincreasing function. That is: $E(t) \\leq E(0)$ for all $t\\geq0$. \n",
    "\n",
    "We then have\n",
    "\n",
    "$$E(0) = \\int_0^1 f^2(x) dx$$\n",
    "\n",
    "Therefore, we have \n",
    "\n",
    "$$\\int_0^1  u^2(x,t) dx \\leq \\int_0^1  f^2(x) dx$$\n",
    "\n",
    "for $t\\geq 0$, as desired.\n",
    "\n",
    "\n"
   ]
  },
  {
   "cell_type": "markdown",
   "metadata": {},
   "source": [
    "---\n",
    "<h1><center> Exercise 3.19 Solution </center></h1>\n",
    "\n",
    "---\n",
    "\n",
    "Assume that $u_1$ and $u_2$ are two solutions with initial functions $f_1$ and $f_2$, respectively. Let $w = u_1 - u_2$. Then we have\n",
    "\n",
    "$$w(0,t) = u_1(0,t) - u_2(0,t) = u_1(1,t) - u_2(1,t) = w(1,t)$$\n",
    "\n",
    "and $$w(x,0)=u_1(x,0) - u_2(x,0)=f_1-f_2$$\n",
    "\n",
    "Furthermore,\n",
    "\n",
    "$$w_t = {(u_1)_t} - {(u_2)_t} = (u_1)_{xx} - (u_1)^3 - {(u_2)_xx} + (u_2)^3 $$\n",
    "\n",
    "$$= (u_1)_{xx}  - (u_2)_{xx} - (u_1)^3 - (u_2)^3) $$\n",
    "\n",
    "$$= (u_1)_{xx}  - (u_2)_{xx} + (-u_1^2 - u_2^2 - u_1u_2)(u_1 - u_2) = w_{xx} + aw $$\n",
    "\n",
    "where $a = (-u_1^2 - u_2^2 - u_1u_2)$.\n",
    "\n",
    "Therefore $w$ solves a linear problem $w_t=w_{xx}+aw$.\n",
    "\n",
    "Since the difference equation $w$ forms a unique solution to the BVP (3.62-3.74). The solution is unique because the difference of two function is a function.\n",
    "\n",
    "\n",
    "\n"
   ]
  },
  {
   "cell_type": "markdown",
   "metadata": {},
   "source": [
    "---\n",
    "<h1><center> Exercise 3.20 Solution </center></h1>\n",
    "\n",
    "Considering the given problem, we have the following\n",
    "\n",
    "$$ \\frac{d}{dt} \\left[ e^{-2t} \\int_0^1 u^2(x,t) dx \\right]$$\n",
    "\n",
    "$$=2e^{-2t} \\int_0^1  uu_{xx} dx = -2e^{-2t} \\int_0^1 u^2(x,t) dx \\leq 0$$\n",
    "\n",
    "Now we can clearly see that\n",
    "\n",
    "$$-2e^{-2t} \\int_0^1 u^2(x,t)\\mathrm{d}x \\leq 0 \\leq e^{-2t} \\int_0^1 u^2(x,t) dx$$\n",
    "\n",
    "Then, we have \n",
    "\n",
    "$$e^{-2t} \\int_0^1  u^2(x, t) dx \\leq  \\int_0^1  u^2(x, 0) dx  =  \\int_0^1  f^2(x) dx $$\n",
    "\n",
    "Therefore, we have\n",
    "\n",
    "$$\\int_0^1  u^2(x, t) dx \\leq e^{2t} \\int_0^1  f^2(x) dx $$ for all $t\\geq0$\n",
    "\n",
    "Now lets use this estimate to bound the difference between two solutions in terms of the difference between the initial functions. Let us consider $y_1(x,t)$ and $y_2(x,t)$ such that $y_1$ and $y_2$ satisfy the equation above with initial conditions $y_1(x,0)=f_1(x)$ and $y_2(x,0)=f_2(x)$. Lets define $w=y_1-y_2$ and similarly like in exercise 3.19, we have boundary condition \n",
    "\n",
    "$$w(0,t) = y_1(0,t) - y_2(0,t) = y_1(1,t) - y_2(1,t) = w(1,t)$$ \n",
    "\n",
    "and initial condition\n",
    "\n",
    "$$w(x,0)=y_1(x,0)-y_2(x,0)=f_1(x)-f_2(x)$$\n",
    "\n",
    "which satisfy \n",
    "\n",
    "$$w_t=(y_1)_t-(y_2)_t=(y_1)_{xx}+y_1-(y_2)_{xx}-u_2=w_{xx}+w$$.\n",
    "\n",
    "Therefore, we have \n",
    "\n",
    "$$\\int_0^1  w^2(x, t) dx \\leq e^{2t} \\int_0^1  (f_1(x) - f_2(x))^2 dx $$\n",
    "\n",
    "So, we do have a unique solution for each initial function $f$ for the problem.\n",
    "\n",
    "\n",
    "\n",
    "\n",
    "\n",
    "\n"
   ]
  }
 ],
 "metadata": {
  "anaconda-cloud": {},
  "kernelspec": {
   "display_name": "Python 3",
   "language": "python",
   "name": "python3"
  },
  "language_info": {
   "codemirror_mode": {
    "name": "ipython",
    "version": 3
   },
   "file_extension": ".py",
   "mimetype": "text/x-python",
   "name": "python",
   "nbconvert_exporter": "python",
   "pygments_lexer": "ipython3",
   "version": "3.6.3"
  }
 },
 "nbformat": 4,
 "nbformat_minor": 1
}
