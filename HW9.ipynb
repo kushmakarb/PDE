{
 "cells": [
  {
   "cell_type": "markdown",
   "metadata": {},
   "source": [
    "# Homework 9\n",
  
    "\n",
    "(Skipped 6.6 and 6.9)"
   ]
  },
  {
   "cell_type": "markdown",
   "metadata": {},
   "source": [
    "---\n",
    "<center><h1> Exercise 6.2 </h1></center>\n",
    "\n"
   ]
  },
  {
   "cell_type": "markdown",
   "metadata": {},
   "source": [
    "# Solution\n",
    "    \n",
    "We start by letting $E =  \\left |u(x) - \\bar u(x)\\right |$ with $e_0 = |u_0 - \\bar u_0|$ and $e_1 = |u_1 - \\bar u_1|$. \n",
    "\n",
    "Then, our form for the two-point boundary value problem will be of the following:\n",
    "\n",
    "$$E^{\\prime\\prime} + a(x)E^{\\prime} = 0 $$\n",
    "\n",
    "We then define the auxillary function $v_{\\epsilon} = E(x) + \\epsilon e^{(1+c)x}$ for $\\epsilon > 0$. \n",
    "\n",
    "Thus, we have\n",
    "\n",
    "$$v_{\\epsilon}^{\\prime\\prime} + a(x)v_{\\epsilon}^{\\prime} = E^{\\prime\\prime}(x) + a(x)E^{\\prime}(x) + (1+c)\\epsilon e^{(1+c)x}\\left(c + a(x) + 1\\right). $$\n",
    "\n",
    "Since we know that $E^{\\prime\\prime}(x) + a(x)E^{\\prime}(x) = 0$, the following will follow\n",
    "\n",
    "$$v_{\\epsilon}^{\\prime\\prime} + a(x)v_{\\epsilon}^{\\prime} = \\underbrace{(1+c)}_{>0}\\;\\underbrace{\\epsilon}_{>0}\\; \\underbrace{e^{(1+c)x}}_{>0}\\;\\underbrace{\\left(c + a(x) + 1\\right)}_{>0}. \n",
    "$$\n",
    "\n",
    "Since this is satisfied for all $x \\in [0,1]$ , then we apply theorem 6.1 to have the following\n",
    "\n",
    "$$\\sup\\limits_{x\\in[0,1]} \\left |u(x) - \\bar u(x)\\right | = \\sup\\limits_{x\\in[0,1]}E(x) $$\n",
    "\n",
    "$$= v_{\\epsilon} - \\epsilon e^{(1+c)x}\\leq v_{\\epsilon}$$\n",
    "\n",
    "$$\\leq \\text{ max }\\left(e_0 + \\epsilon, e_1 + \\epsilon e^{1+c}\\right)$$\n",
    "\n",
    "Now let $\\epsilon \\rightarrow 0$. Then, we have\n",
    "\n",
    "$$= \\text{ max }\\left(e_0, e_1\\right) $$\n",
    "\n",
    "$$= \\text{ max }\\left(|u_0 - \\bar u_0|, |u_1 - \\bar u_1|\\right). $$\n",
    "\n",
    "Therefore, we have\n",
    "$$||u - \\bar u||_{\\infty} = \\text{ max }\\left(|u_0 - \\bar u_0|, |u_1 - \\bar u_1|\\right)$$\n",
    "\n",
    "Define $E = u - \\bar u$. Both $u$ and $\\bar u$ are solutions to the boundary value problem from above and thus their difference $E$ is a homogeneous boundary value problem. Apply Throrem 6.1, so we have\n",
    "\n",
    "$$\\min (E_0,E_1) \\leq E(x) \\leq \\max (E_0,E_1)$$\n",
    "\n",
    "Since this is satisfied for all $x \\,\\in \\,(0,1)$ we then have\n",
    "\n",
    "$$||E||_{\\infty} \\leq \\max (|E_0|,|E_1|) $$\n",
    "\n",
    "This implies that\n",
    "\n",
    "$$||u-\\bar u||_{\\infty} \\leq \\max (|u_0-\\bar u_0|,|u_1-\\bar u_1|) $$\n",
    "\n"
   ]
  },
  {
   "cell_type": "markdown",
   "metadata": {},
   "source": [
    "---\n",
    "<center><h1> Exercise 6.16 </h1></center>\n",
    "\n",
    "---\n",
    "\n",
    "\n",
    "\n",
    "\n"
   ]
  },
  {
   "cell_type": "markdown",
   "metadata": {},
   "source": [
    "# Solution:"
   ]
  },
  {
   "cell_type": "markdown",
   "metadata": {},
   "source": [
    "a)\n",
    "\n",
    "  \n",
    "We see that $-v$ satisfies $-\\Delta(-v) \\leq 0$ on $\\Omega$. By Corollary 6.2, we have that $-v \\leq 0$ where $v(x,y) \\geq 0$ on $\\partial\\Omega \\cup\\Omega$.\n",
    "\n",
    "Thus we define $w(x,y) = \\frac{1}{4}\\left(r^2 - x^2 - y^2\\right)$, then $-\\Delta w = 1$.\n",
    "\n",
    "$$-\\Delta w = -\\frac{\\partial^2 w}{\\partial x^2} - \\frac{\\partial^2 w}{\\partial y^2}  = 1$$\n",
    "\n",
    "Therefore we constructed, $w-v$; which is a harmonic and thus allowing us to use $w-v \\geq 0$ on $\\partial\\Omega$. \n",
    "\n",
    "Thus, by Theorem 6.7, we have $w-v \\geq 0$ on $\\partial\\Omega \\cup \\Omega$. \n",
    "\n",
    "Since $\\max\\limits_{\\partial \\Omega} w(x,y) = \\frac{r^2}{4}$, we then have $0 \\leq v(x,y) \\leq w(x,y) \\leq \\frac{r^2}{4}$ on $\\partial\\Omega\\cup\\Omega$. \n",
    "\n",
    "Therefore, we have\n",
    "\n",
    "$$0\\leq v(x,y)\\leq\\frac{r^2}{4} \\text{ for all $(x,y) \\in \\bar\\Omega$}$$\n",
    "\n"
   ]
  },
  {
   "cell_type": "markdown",
   "metadata": {
    "collapsed": true
   },
   "source": [
    "b)\n",
    "\n",
    "    \n",
    "Let $w = \\frac{||f||_{\\infty}}{4}\\left(r^2-x^2-y^2\\right)$. \n",
    "\n",
    "Therefore, we have $w = 0$ on $\\partial \\mathcal{C}$ where $\\partial \\mathcal{C}$ is the boundary of $w$, and $-\\Delta w = ||f||_{\\infty}$ in $\\mathcal{C}$. \n",
    "\n",
    "Thus $u-w = 0$ on $\\partial \\mathcal{C}$ and $-\\Delta(u-w) = f-||f||_{\\infty} \\leq 0$ in $\\mathcal{C}$. \n",
    "\n",
    "Given Corollary 6.2, $u-w \\leq 0$ in $\\mathcal{\\bar C}$ and from (a),\n",
    "\n",
    "$$u(x,y) \\leq w(x,y) \\leq \\frac{r^2}{4}||f||_{\\infty} \\text{  in } \\mathcal{\\bar C}$$\n",
    "\n",
    "Since $\\bar\\Omega \\subset \\mathcal{\\bar C}$ and is satisfied for all $x,y$, then we have\n",
    "\n",
    "$$||u||_{\\infty} \\leq \\frac{r^2}{4}||f||_{\\infty}$$\n",
    "\n",
    "as desired.\n",
    "\n"
   ]
  }
 ],
 "metadata": {
  "anaconda-cloud": {},
  "kernelspec": {
   "display_name": "Python 3",
   "language": "python",
   "name": "python3"
  },
  "language_info": {
   "codemirror_mode": {
    "name": "ipython",
    "version": 3
   },
   "file_extension": ".py",
   "mimetype": "text/x-python",
   "name": "python",
   "nbconvert_exporter": "python",
   "pygments_lexer": "ipython3",
   "version": "3.6.3"
  }
 },
 "nbformat": 4,
 "nbformat_minor": 1
}
