{
 "cells": [
  {
   "cell_type": "code",
   "execution_count": 4,
   "metadata": {
    "collapsed": true
   },
   "outputs": [],
   "source": [
    "import numpy as np\n",
    "%matplotlib inline\n",
    "import matplotlib.pyplot as plt\n",
    "\n",
    "#Homework 4\n",
    "\n",
    "\n",
    "# Skipped the project 2.2"
   ]
  },
  {
   "cell_type": "markdown",
   "metadata": {},
   "source": [
    "# Exercise 2.23 Solution\n",
    "\n"
   ]
  },
  {
   "cell_type": "markdown",
   "metadata": {},
   "source": [
    "We see that for $j = 0,1,2,\\ldots,n$ and $x\\in[x_j,x_j+1]$ we have\n",
    "\n",
    "$$\\|v_\\Delta(x)\\|_{\\infty} = \\max(|v_j|,|v_{j+1}|)$$\n",
    "\n",
    "Hence we have\n",
    "\n",
    "$$\\|v_\\Delta(x)\\|_{\\infty} = \\max_{j=0,1,\\ldots,n+1}(|v_j|) =\n",
    "\\|v\\|_{h,\\infty}$$\n",
    "\n",
    "for all $x\\in[0,1]$ by 2.35.\n",
    "\n",
    "Therefore,\n",
    "\n",
    "$$||u − v_\\Delta ||_\\infty = ||u − v ||_{h,\\infty} = O(h^2)$$ "
   ]
  },
  {
   "cell_type": "markdown",
   "metadata": {},
   "source": [
    "<br>\n",
    "<br>"
   ]
  },
  {
   "cell_type": "markdown",
   "metadata": {},
   "source": [
    "# Exercise 2.24 Solution\n",
    "\n"
   ]
  },
  {
   "cell_type": "markdown",
   "metadata": {},
   "source": [
    "We would approach it by looking at the similar solution in the book.\n",
    "\n",
    "We first start by defining an operator\n",
    "\n",
    "$${L} = -u'' + \\alpha = \\widetilde{L} + \\alpha$$\n",
    "\n",
    "Suppose that $\\lambda$ be an eigenvalue of ${L}$ and observe that\n",
    "\n",
    "$$<{L}u,u> = \\lambda<u,u>$$\n",
    "\n",
    "$$ <\\widetilde{L}u,u> = (\\lambda - \\alpha)<u,u>$$\n",
    "\n",
    "Since the operator $\\widetilde{L}$ is positive definite and the eigenfunction u is nonzero, it follows that $\\lambda - \\alpha > 0$.\n",
    "\n",
    "Since we know that the eigenvalues are positive, we can define $\\beta = \\sqrt{\\lambda - \\alpha}$\n",
    "\n",
    "We then study this equation \n",
    "\n",
    "$$u''(x) + \\beta^2 u(x) = 0$$\n",
    "\n",
    "We then have the general solutions of the form\n",
    "\n",
    "$$u(x) = c_1\\cos(\\beta x) +  c_2\\sin(\\beta x)$$\n",
    "\n",
    "We then use our boundary conditions and we get $c_1=0$ and $c_2=\\sin (\\beta)=0$\n",
    "\n",
    "Since we are only interested in nontrivial solutions, we have to choose $\\beta$ such that $\\sin(\\beta)=0$, so we have\n",
    "\n",
    "$\\beta=\\beta_k=k\\pi$ for $k=1,2,....$\n",
    "\n",
    "Therefore, the eigenvalues and the eigenfunctions of the problem are given by\n",
    "\n",
    "$\\lambda_k = (k\\pi)^2 + \\alpha$ for $k=1,2,....$\n",
    "\n",
    "and\n",
    "\n",
    "$u_k(x) = \\sin(k\\pi x)$ for $k=1,2,....$"
   ]
  },
  {
   "cell_type": "markdown",
   "metadata": {},
   "source": [
    "<br>\n",
    "<br>"
   ]
  },
  {
   "cell_type": "markdown",
   "metadata": {},
   "source": [
    "# Exercise 2.27 Solution\n",
    "\n",
    "## Part (a)\n",
    "\n",
    "We start by using the product limit property to solve the limit\n",
    "\n",
    "$$\\lim_{h\\rightarrow 0} \\mu_1 (h)=\\lim_{h\\rightarrow 0} \\frac{4}{h^2}\\sin^2(\\frac{\\pi h}{2})=4\\lim_{h\\rightarrow 0}\\frac{\\sin(\\frac{(\\pi h)}{2})}{h}\\lim_{h\\rightarrow 0}\\frac{\\sin(\\frac{(\\pi h)}{2})}{h}$$\n",
    "\n",
    "By a theorem in calculus we know that $\\lim_{x\\rightarrow 0} \\frac {sin (x)}{x}=1$. Hence, using this theorem, we have\n",
    "\n",
    "$$\\lim_{h\\rightarrow 0} \\mu_1 (h)=4\\lim_{h\\rightarrow 0}\\frac{\\sin(\\frac{(\\pi h)}{2})}{h}\\lim_{h\\rightarrow 0}\\frac{\\sin(\\frac{(\\pi h)}{2})}{h}=4\\frac {\\pi}{2}*\\frac {\\pi}{2}=\\pi ^2=\\lambda_1$$\n",
    "\n",
    "Thus, $\\lim_{h\\rightarrow 0} \\mu_1 (h)=\\lambda_1=\\pi ^2$\n",
    "\n",
    "## Part (b)\n",
    "\n",
    "Suppose that $h\\in \\mathbb{R}$ such that $0 < h \\leq 1$. We can see that \n",
    "\n",
    "$$\\frac{4}{h^2} \\sin^2 (\\pi h/2) \\geq \\frac{4}{h^2} \\geq 4$$\n",
    "\n",
    "We can see that\n",
    "\n",
    "$$\\frac{4}{h^2} \\sin^2 (\\pi h/2) = \\pi^2 \\frac{4}{\\pi^2h^2} \\sin^2 (\\pi h/2)$$\n",
    "\n",
    "We multiply by intelligent $1=\\frac{\\pi^2}{\\pi^2}$. We then have\n",
    "\n",
    "$$\\frac{4}{h^2} \\sin^2 (\\pi h/2) = \\pi^2 \\bigg(\\frac{2}{\\pi h} \\sin (\\pi h/2) \\bigg)^2$$\n",
    "\n",
    "Since for any nonzero real number $x$ we have $\\frac{\\sin(x)}{x} \\leq 1$.\n",
    "\n",
    "So, we have $\\frac{2}{\\pi h} \\sin (\\pi h/2) \\leq 1$\n",
    "\n",
    "It follows that \n",
    "\n",
    "$$ \\pi^2 \\bigg(\\frac{2}{\\pi h} \\sin (\\pi h/2) \\bigg)^2 \\leq \\pi^2$$\n",
    "\n",
    "Therefore, we have $4 \\leq \\frac{4}{h^2} \\sin^2 (\\pi h/2) \\leq \\pi^2$ for any $h\\in \\mathbb{R}$ satisfying $0<h\\leq1$.\n",
    "\n",
    "\n",
    "\n"
   ]
  },
  {
   "cell_type": "markdown",
   "metadata": {},
   "source": [
    "<br>\n",
    "<br>"
   ]
  },
  {
   "cell_type": "markdown",
   "metadata": {},
   "source": [
    "# Exercise 2.29 Solution\n",
    "\n"
   ]
  },
  {
   "cell_type": "markdown",
   "metadata": {},
   "source": [
    "a)\n",
    "\n",
    "We let $k \\in \\{1,2,\\ldots,n\\}$. We then have\n",
    "\n",
    "$$2h\\sum_{j=1}^n z_j sin(k\\pi x_j ) = 2h\\sum_{j=1}^n g(x_j) sin(k\\pi x_j )\n",
    "$$\n",
    "\n",
    "$$= 2h\\sum_{j=1}^n \\sum_{i=1}^n c_i \\sin(i\\pi x_j) sin(k\\pi x_j )$$\n",
    "\n",
    "$$= 2h\\sum_{j=1}^n \\sum_{i=1}^n c_i \\sin(\\frac{i\\pi j}{n+1}) sin(\\frac{k\\pi j}{n+1} ) $$\n",
    "\n",
    "$$ = 2h c_k \\frac{n+1}{2} = c_k$$\n",
    "\n",
    "Therefore, we have\n",
    "\n",
    "$$c_k = 2h\\sum_{j=1}^n z_j \\sin(k\\pi x_j )$$\n",
    "\n",
    "Now, we assume that\n",
    "\n",
    "$$c_k = 2h\\sum_{j=1}^n z_j sin(k\\pi x_j ) \\quad \\text{for} \\quad k = 1,\\ldots, n$$\n",
    "\n",
    "for $k = 1,2,\\ldots, n$. Let $j\\in\\{1,2,\\ldots,n\\}$. We then have,\n",
    "\n",
    "$$g(x_j) = \\sum_{k=1}^n c_k \\sin(k\\pi x_j)  = \\sum_{k=1}^n 2h\\sum_{i=1}^n z_i \\sin(k\\pi x_i ) \\sin(k\\pi x_j) $$\n",
    "\n",
    "It follows that\n",
    "$$= 2h \\sum_{k=1}^n \\sum_{i=1}^n z_i \\sin(\\frac{k\\pi i}{n+1} ) \\sin(\\frac{k\\pi j}{n+1}) = 2h \\sum_{k=1}^n z_j \\sin^2(\\frac{k\\pi j}{n+1} ) $$\n",
    "\n",
    "Now, we have\n",
    "\n",
    "$$= 2hz_j \\sum_{k=1}^n \\sin^2(\\frac{k\\pi j}{n+1} ) = 2hz_j \\frac{n+1}{2} = z_j$$\n",
    "\n",
    "Since $j$ is arbitrary, $g(x_j) = z_j$ for all $j \\in \\{1,2,\\ldots,n\\}$.\n",
    "\n",
    "\n",
    "b)\n",
    "\n",
    "Let the given conditions. Then, we have\n",
    "\n",
    "$$t_{j,k} = \\sin(k\\pi x_j ) = \\sin \\bigg(\\frac{k\\pi j}{n+1} \\bigg)$$\n",
    "\n",
    "It follows that\n",
    "\n",
    "$$= \\sin \\bigg(\\frac{j\\pi k}{n+1} \\bigg) = \\sin(x_j\\pi k) = t_{k,j}$$\n",
    "\n",
    "Therefore, the matrix is symmetric. Since T is symmetric, so T is nonsingular.\n",
    "\n",
    "c)\n",
    "\n",
    "We let the coefficients be denoted by $(t^2)_{i,j}$ for all $i \\in \\{1,2,\\ldots,n\\}$. We then have \n",
    "\n",
    "$$(t^2)_{i,j} = \\sum_{k=1}^n \\sin(i\\pi x_k)\\sin(k\\pi x_j)$$ \n",
    "\n",
    "$$= \\sum_{k=1}^n \\sin\\Big( \\frac{i\\pi k}{n+1}\\Big)\\sin\\Big( \\frac{k\\pi j}{n+1}\\Big) $$\n",
    "\n",
    "It follows that \n",
    "\n",
    "$$\n",
    "= \\left \\{ \n",
    "\\begin{array}\n",
    "& 0 & \\text{if} \\quad i \\neq j \\\\\n",
    "\\sum\\limits_{k=1}^n \\sin^2\\Big( \\frac{i\\pi k}{n+1}\\Big) & \\text{if} \\quad i = j\n",
    "\\end{array} \\right.\n",
    "$$\n",
    "\n",
    "Hence every nondiagonal element of $T^2$ is 0. Now we can see that for every $i \\in \\{1,2,\\ldots,n\\}$ we then have\n",
    "\n",
    "$$\\sum_{k=1}^n \\sin^2\\Big( \\frac{i\\pi k}{n+1}\\Big) = \\frac{n+1}{2} = \\frac{1}{2h}$$\n",
    "\n",
    "Hence, we can clearly see that\n",
    "\n",
    "$$T^2 = \\frac{1}{2h}I$$\n",
    "\n"
   ]
  },
  {
   "cell_type": "markdown",
   "metadata": {},
   "source": [
    "d) Code Blocks are Collaborated with Other Classmates in Class"
   ]
  },
  {
   "cell_type": "code",
   "execution_count": 5,
   "metadata": {
    "collapsed": true
   },
   "outputs": [],
   "source": [
    "\n",
    "z = np.zeros(5)\n",
    "\n",
    "def finitefourier(z):\n",
    "    \n",
    "    n = z.size\n",
    "    \n",
    "    x = np.linspace(0,1, n+1, endpoint=False)\n",
    "    \n",
    "    c = np.zeros(n)\n",
    "    \n",
    "    h = 1/(n+1)\n",
    "    \n",
    "    for i in range(0,n):\n",
    "        \n",
    "        for j in range(0,n):\n",
    "            \n",
    "            c[i] += 2*h*z[j]*np.sin((i+1)*np.pi*x[j+1])\n",
    "            \n",
    "    return c"
   ]
  },
  {
   "cell_type": "markdown",
   "metadata": {},
   "source": [
    "e)"
   ]
  },
  {
   "cell_type": "code",
   "execution_count": 6,
   "metadata": {
    "collapsed": true
   },
   "outputs": [],
   "source": [
    "def f(x):\n",
    "    \n",
    "    if 0 <= x <= .5:\n",
    "        f = x\n",
    "        \n",
    "    if .5 <= x <= 1:\n",
    "        f = 1 - x\n",
    "        \n",
    "    if x < 0 or x>1:\n",
    "        f = 0\n",
    "        \n",
    "    return f\n",
    "\n",
    "c = np.zeros(5)\n",
    "\n",
    "def g(c,x):\n",
    "    \n",
    "    m = c.size\n",
    "    g=0\n",
    "    \n",
    "    for l in range(0,m):\n",
    "        \n",
    "        g += c[l]*np.sin((l+1)*np.pi*x)\n",
    "        \n",
    "    return g"
   ]
  },
  {
   "cell_type": "code",
   "execution_count": 7,
   "metadata": {},
   "outputs": [
    {
     "data": {
      "image/png": "[encoded data removed]",
      "text/plain": [
       "<matplotlib.figure.Figure at 0x112f93898>"
      ]
     },
     "metadata": {},
     "output_type": "display_data"
    }
   ],
   "source": [
    "for k in range(1,5):\n",
    "    \n",
    "    N = 2**(k-1)\n",
    "    N = int(N)\n",
    "    z = np.zeros(2*N)\n",
    "    h = 1/(2*N+1)\n",
    "    \n",
    "    for i in range(0,N):\n",
    "        \n",
    "        z[i] = (i+1)*h\n",
    "        \n",
    "    for i in range(N,2*N):\n",
    "        \n",
    "        z[i] = 1 - ((i+1)*h)\n",
    "        \n",
    "    c = finitefourier(z)\n",
    "    \n",
    "    x = np.linspace(0,1,1000)\n",
    "    \n",
    "    f = np.zeros(1000)\n",
    "    \n",
    "    for i in range(0,500):\n",
    "        f[i] = i/999\n",
    "        \n",
    "    for i in range(500,1000):\n",
    "        f[i] = 1 - (i/999)\n",
    "    \n",
    "    plt.figure(2)\n",
    "    plt.plot(x,f) \n",
    "    plt.plot(x,g(c,x))\n",
    "    plt.show"
   ]
  },
  {
   "cell_type": "markdown",
   "metadata": {},
   "source": [
    "<br>\n",
    "<br>"
   ]
  }
 ],
 "metadata": {
  "anaconda-cloud": {},
  "kernelspec": {
   "display_name": "Python 3",
   "language": "python",
   "name": "python3"
  },
  "language_info": {
   "codemirror_mode": {
    "name": "ipython",
    "version": 3
   },
   "file_extension": ".py",
   "mimetype": "text/x-python",
   "name": "python",
   "nbconvert_exporter": "python",
   "pygments_lexer": "ipython3",
   "version": "3.6.3"
  }
 },
 "nbformat": 4,
 "nbformat_minor": 2
}
