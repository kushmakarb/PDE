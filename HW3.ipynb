{
 "cells": [
  {
   "cell_type": "markdown",
   "metadata": {},
   "source": [
    "# Homework #3 "
   ]
  },
  {
   "cell_type": "markdown",
   "metadata": {},
   "source": [

   ]
  },
  {
   "cell_type": "code",
   "execution_count": 2,
   "metadata": {
    "collapsed": true
   },
   "outputs": [],
   "source": [
    "import numpy as np\n",
    "%matplotlib inline\n",
    "import matplotlib.pyplot as plt"
   ]
  },
  {
   "cell_type": "markdown",
   "metadata": {},
   "source": [
    "# Solution to Exercise 2.11"
   ]
  },
  {
   "cell_type": "code",
   "execution_count": 39,
   "metadata": {},
   "outputs": [],
   "source": [
    "\n",
    "def mat(alpha, beta, gamma, b): \n",
    "\n",
    "    n = np.size(b)\n",
    "    delta = np.zeros(n)\n",
    "    c = np.zeros(n)\n",
    "    m = np.zeros(n-1)\n",
    "    v = np.zeros(n)\n",
    "    delta[0] = alpha[0]\n",
    "    c[0] = b[0]\n",
    "    \n",
    "    for k in range(1,n):\n",
    "        m[k-1] = beta[k-1]/delta[k-1]\n",
    "        delta[k] = alpha[k] - m[k-1]*gamma[k-1]\n",
    "        c[k] = b[k] - m[k-1]*c[k-1]\n",
    "        v[n-1] = c[n-1]/delta[n-1]\n",
    "        \n",
    "    for k in range(n-2,-1,-1):\n",
    "        v[k] = (c[k]-gamma[k]*v[k+1])/delta[k]\n",
    "        \n",
    "    return (v) \n"
   ]
  },
  {
   "cell_type": "code",
   "execution_count": 40,
   "metadata": {},
   "outputs": [
    {
     "name": "stdout",
     "output_type": "stream",
     "text": [
      "Check obtaining solution of random b for 10 Dimensional system\n",
      "4.4408920985e-16\n"
     ]
    },
    {
     "name": "stderr",
     "output_type": "stream",
     "text": [
      "/anaconda3/lib/python3.6/site-packages/ipykernel_launcher.py:16: RuntimeWarning: invalid value encountered in double_scalars\n",
      "  app.launch_new_instance()\n"
     ]
    }
   ],
   "source": [
    "n = 10\n",
    "A = np.zeros((n,n))\n",
    "np.fill_diagonal(A,2)\n",
    "A += np.diag(-np.ones(n-1),k=1)\n",
    "A += np.diag(-np.ones(n-1),k=-1)\n",
    "print ('Check obtaining solution of random b for 10 Dimensional system')\n",
    "z = np.random.randn(n)\n",
    "b = np.dot(A,z)\n",
    "print (np.linalg.norm(mat(A.diagonal(),A.diagonal(-1),A.diagonal(1),b)-z,np.inf))"
   ]
  },
  {
   "cell_type": "markdown",
   "metadata": {},
   "source": [
    "Since the error is close to zero, we can say the code works."
   ]
  },
  {
   "cell_type": "markdown",
   "metadata": {},
   "source": [
    "# Solution to Exercise 2.13(a)\n",
    "\n"
   ]
  },
  {
   "cell_type": "code",
   "execution_count": 41,
   "metadata": {},
   "outputs": [],
   "source": [
    "l = 10\n",
    "bl=np.array([b,b,b,b,b,b,b,b,b,b])\n",
    "\n",
    "def matsol(alpha,beta,gamma,bl , n , l):\n",
    "    \n",
    "    d = np.zeros(n)\n",
    "    c = np.zeros(n)\n",
    "    m = np.zeros(n-1)\n",
    "    v = np.zeros(n)\n",
    "    \n",
    "    d[0] = alpha[0]\n",
    "    \n",
    "    \n",
    "    for i in range(0 , n-1):\n",
    "        m[i] = beta[i]/d[i]\n",
    "        d[i+1] = alpha[i+1] - (m[i]*gamma[i])\n",
    "    \n",
    "    for j in range(0,l):\n",
    "        \n",
    "        c[0] = bl[j,0]\n",
    "        \n",
    "        for i in range(0,n-1):\n",
    "            \n",
    "            c[i+1] = bl[j,i+1] - (m[i]*c[i])\n",
    "            \n",
    "        v[n-1]=c[n-1]/d[n-1]\n",
    "    \n",
    "        for i in reversed(range(0,n-1)):\n",
    "        \n",
    "            v[i] = (c[i] - gamma[i]*v[i+1])/d[i]\n",
    "            \n",
    "        print(v)\n",
    "            \n",
    "    return v\n"
   ]
  },
  {
   "cell_type": "markdown",
   "metadata": {},
   "source": [
    "# Solution to Exercise 2.13(b)\n",
    "\n"
   ]
  },
  {
   "cell_type": "code",
   "execution_count": 46,
   "metadata": {},
   "outputs": [
    {
     "name": "stdout",
     "output_type": "stream",
     "text": [
      "[ 0.5         0.77702062  0.94401178  1.05752735  1.14592744  1.22347979\n",
      "  1.29741065  1.37143059  1.44749753  1.52669865  1.60969163  1.6969255\n",
      "  1.78875154  1.88547893  1.98740307  2.09482006  2.20803437  2.3273631\n",
      "  2.4531386   2.58571022]\n",
      "[ 0.5         0.76333255  0.9086869   0.99541713  1.05321004  1.096919\n",
      "  1.13398096  1.16812493  1.20122623  1.23423362  1.26763288  1.30167858\n",
      "  1.33651005  1.37220927  1.4088299   1.44641176  1.48498811  1.52458929\n",
      "  1.56524454  1.6069829 ]\n",
      "[ 0.5         0.75884933  0.89727994  0.97566059  1.02417847  1.05793006\n",
      "  1.0844665   1.10756635  1.12912191  1.15008242  1.17092561  1.19189356\n",
      "  1.21311055  1.23464201  1.25652404  1.27877808  1.30141837  1.32445554\n",
      "  1.34789853  1.37175548]\n",
      "[ 0.5         0.75662242  0.89164376  0.96595344  1.00999734  1.0389996\n",
      "  1.06057348  1.07852686  1.0947649   1.11024145  1.1254347   1.14058505\n",
      "  1.15581398  1.17118359  1.18672625  1.20245951  1.21839352  1.23453476\n",
      "  1.25088789  1.26745665]\n",
      "[ 0.5         0.75529096  0.88828338  0.96018312  1.00159369  1.02781747\n",
      "  1.04650624  1.06148653  1.07467221  1.08702086  1.0990119   1.11088569\n",
      "  1.12276305  1.13470507  1.14674294  1.15889293  1.17116386  1.18356083\n",
      "  1.19608707  1.20874492]\n",
      "[ 0.5         0.75440526  0.88605196  0.95635853  0.99603454  1.02043512\n",
      "  1.03723818  1.05028304  1.0614897   1.07181853  1.08175009  1.091525\n",
      "  1.10126397  1.11102771  1.12084696  1.13073745  1.14070746  1.1507615\n",
      "  1.16090221  1.17113131]\n",
      "[ 0.5         0.75377357  0.8844624   0.95363755  0.99208478  1.01519718\n",
      "  1.03067151  1.04235638  1.0521763   1.06109378  1.06959028  1.07790676\n",
      "  1.08616394  1.0944224   1.10271267  1.11105025  1.11944312  1.12789553\n",
      "  1.13640981  1.1449874 ]\n",
      "[ 0.5         0.75330032  0.88327258  0.95160274  0.98913392  1.01128784\n",
      "  1.02577548  1.0364525   1.04524687  1.05312273  1.06056229  1.06780682\n",
      "  1.07497709  1.08213366  1.08930695  1.09651232  1.10375763  1.11104695\n",
      "  1.11838247  1.12576546]\n",
      "[ 0.5         0.75293254  0.88234856  0.95002361  0.98684558  1.00825851\n",
      "  1.02198453  1.03188481  1.03989003  1.04696564  1.05359446  1.06001802\n",
      "  1.06635719  1.0726725   1.07899434  1.08533799  1.09171122  1.09811801\n",
      "  1.10456048  1.11103977]\n",
      "[ 0.5         0.75263852  0.88161021  0.9487625   0.98501915  1.00584213\n",
      "  1.01896249  1.02824584  1.03562505  1.04206664  1.04805394  1.0538287\n",
      "  1.05951186  1.06516397  1.07081539  1.07648138  1.08216964  1.08788409\n",
      "  1.0936268   1.09939886]\n",
      "[ 0.5         0.75263852  0.88161021  0.9487625   0.98501915  1.00584213\n",
      "  1.01896249  1.02824584  1.03562505  1.04206664  1.04805394  1.0538287\n",
      "  1.05951186  1.06516397  1.07081539  1.07648138  1.08216964  1.08788409\n",
      "  1.0936268   1.09939886]\n"
     ]
    }
   ],
   "source": [
    "x = np.linspace(0,1, 20)\n",
    "\n",
    "e1 = np.exp(x)\n",
    "e2 = np.exp(x/2)\n",
    "e3 = np.exp(x/3)\n",
    "e4 = np.exp(x/4)\n",
    "e5 = np.exp(x/5) \n",
    "e6 = np.exp(x/6)\n",
    "e7 = np.exp(x/7)\n",
    "e8 = np.exp(x/8)\n",
    "e9 = np.exp(x/9)\n",
    "e10 = np.exp(x/10)\n",
    "        \n",
    "bl = np.array([e1,e2,e3,e4,e5,e6,e7,e8,e9,e10])\n",
    "\n",
    "\n",
    "print(matsol(alpha,beta,gamma, bl, 20, l))\n",
    "\n"
   ]
  },
  {
   "cell_type": "markdown",
   "metadata": {},
   "source": [
    "As l tends to infinity the limit would go to 1."
   ]
  },
  {
   "cell_type": "markdown",
   "metadata": {},
   "source": [
    "# Solution to Exercise 2.14(a)\n",
    "\n"
   ]
  },
  {
   "cell_type": "markdown",
   "metadata": {
    "collapsed": true
   },
   "source": [
    "\n",
    "    \n",
    "We have the scheme $S_1$ as discussed in question. We define $\\{v\\}_{j=0}^{n+1}$ by\n",
    "\n",
    "$$-\\frac{v_{j-1} + 2v_j - v_{j+1}}{h^2} = f(x_j) \\quad \\text{for} \\quad j=1,2,\\ldots,n \\, , \\quad v_0=0 \\, , $$\n",
    "\n",
    "and\n",
    "\n",
    "$$\\frac{v_{n+1} - v_n}{h} = 1 \\Longrightarrow v_{n+1}-v_n = h$$\n",
    "\n",
    "Then, we can define an $n+1\\times n+1$ matrix $A_1$ and $(n+1)$-dimensional vector $b_1$ by\n",
    "\n",
    "$$\n",
    "    A_1 = \\left(\n",
    "                \\begin{array}{ccccccc}\n",
    "                    2 & -1 & 0 & \\cdots & 0 \\\\\n",
    "                    -1 & 2 & -1 & \\ddots & \\vdots \\\\\n",
    "                    0 & \\ddots & \\ddots & \\ddots & 0 \\\\\n",
    "                    \\vdots & \\ddots & -1 & 2 & -1 \\\\\n",
    "                    0 & \\cdots & 0 & -1 & 1\n",
    "                \\end{array}\n",
    "           \\right) \\ \\text{and} \\  \n",
    "           b_1 = \\left(\n",
    "                    \\begin{array}{c} \n",
    "                        h^2f(x_1) \\\\\n",
    "                        h^2f(x_2) \\\\\n",
    "                        \\vdots \\\\\n",
    "                        h^2f(x_n) \\\\\n",
    "                        h\n",
    "                    \\end{array}\n",
    "                \\right).\n",
    "$$\n",
    "\n",
    "Now we have scheme $S_2$ as discussed in the question. We define $\\{v\\}_{j=0}^{n+2}$ by\n",
    "\n",
    "$$\n",
    "-\\frac{v_{j-1} + 2v_j - v_{j+1}}{h^2} = f(x_j) \\quad \\text{for} \\quad j=1,2,\\ldots,n+1 \\, , \\quad v_0=0 \\, , \n",
    "$$\n",
    "and\n",
    "$$\n",
    "\\frac{v_{n+2}-v_n}{2h}=1 \\Longrightarrow v_{n+2} = 2h + v_n.\n",
    "$$\n",
    "\n",
    "Then, we can define an $n+2\\times n+2$ matrix $A_2$ and the vector $b_2$ by\n",
    "\n",
    "$$\n",
    "    A_2 = \\left(\n",
    "                \\begin{array}{ccccccc}\n",
    "                    2 & -1 & 0 & \\cdots & 0 \\\\\n",
    "                    -1 & 2 & -1 & \\ddots & \\vdots \\\\\n",
    "                    0 & \\ddots & \\ddots & \\ddots & 0 \\\\\n",
    "                    \\vdots & \\ddots & -1 & 2 & -1 \\\\\n",
    "                    0 & \\cdots & 0 & -2 & 2\n",
    "                \\end{array}\n",
    "           \\right) \\ \\text{and} \\  \n",
    "           b_2 = \\left(\n",
    "                    \\begin{array}{c} \n",
    "                        h^2f(x_1) \\\\\n",
    "                        h^2f(x_2) \\\\\n",
    "                        \\vdots \\\\\n",
    "                        h^2f(x_n) \\\\\n",
    "                        h^2f(x_{n+1})+2h\n",
    "                    \\end{array}\n",
    "                \\right).\n",
    "$$\n",
    "\n",
    "\n",
    "    \n"
   ]
  },
  {
   "cell_type": "markdown",
   "metadata": {},
   "source": [
    "# Solution to Exercise 2.14(b)\n"
   ]
  },
  {
   "cell_type": "markdown",
   "metadata": {
    "collapsed": true
   },
   "source": [
    "Clearly, we can see that both $A_1$ and $A_2$ are diagonal dominant because they both have the magnitude of the diagonal entry equal to the sum of the magnitudes of the other entries in that row. Hence they are both diagonal dominant. \n",
    "\n",
    "Now, we can clearly see that $A_1$ is symmetric and $A_2$ is not symmetric. If $A_1$ is positive definite, then ${x}^T A_1 {x} > 0$ for all ${x} \\in\\mathbb {R}^{n+1}$. Let ${x} = \\begin{bmatrix} x_1 & x_2 & \\ldots & x_{n+1} \\end{bmatrix}^T \\in\\mathbb {R}^{n+1}$. Then we have\n",
    "\n",
    "$$\n",
    "{x}^TA_1{x} = \\begin{bmatrix} x_1 & x_2 & \\ldots & x_{n+1} \\end{bmatrix}\n",
    "    \\begin{bmatrix}\n",
    "    2      & -1     & 0      & \\ldots & 0 \\\\\n",
    "    -1     & 2      & -1     & \\ddots & \\vdots \\\\\n",
    "    0      & \\ddots & \\ddots & \\ddots & 0 \\\\\n",
    "    \\vdots & \\ddots & -1     & 2      & -1 \\\\\n",
    "    0      & \\ldots & 0      & -1     & 1 \n",
    "    \\end{bmatrix} \n",
    "    \\begin{bmatrix}\n",
    "    x_1 \\\\\n",
    "    x_2 \\\\\n",
    "    \\vdots \\\\\n",
    "    x_{n+1} \n",
    "    \\end{bmatrix} \\\\\n",
    "$$\n",
    "\n",
    "$$\n",
    "= \\begin{bmatrix} x_1 & x_2 & \\ldots & x_{n+1} \\end{bmatrix}\n",
    "    \\begin{bmatrix}\n",
    "    2x_1 - x_2 \\\\\n",
    "    -x_1 + 2x_2 - x_3 \\\\\n",
    "    \\vdots \\\\\n",
    "    -x_{n-1} + 2x_n - x_{n+1} \\\\\n",
    "    -x_n + x_{n+1}\n",
    "    \\end{bmatrix} \n",
    "$$\n",
    "\n",
    "$$\n",
    "=x_1^2 + \\sum_{i=1}^n (x_i-x_{i+1})^2\\geq 0.\n",
    "$$\n",
    "Therefore, $A_1$ is positive definite.\n",
    "\n",
    "We can use Sylvester's criterion to show that $A_2$ is positive definite. We can see that the leading $n$ principal minors of $A_2$ are positive by results we have in the book for matrices of this structure. We can see that the determinant of $A_2$ is simply equal to $2=(\\frac{1}{2})^{-1}$ times the determinant of $A_1$ since we can change $A_2$ into $A_1$ by multiplying the last row of $A_2$ by $\\frac{1}{2}$. Since $A_1$ is positive definite by the above argument, we can see that its determinant is positive, which implies that the determinant of $A_2$ is also positive.\n",
    "Therefore by the Sylvester's criterion, $A_2$ is also positive definite.\n",
    "\n"
   ]
  },
  {
   "cell_type": "markdown",
   "metadata": {},
   "source": [
    "# Solution to Exercise 2.14(c)\n",
    "\n"
   ]
  },
  {
   "cell_type": "markdown",
   "metadata": {
    "collapsed": true
   },
   "source": [
    "\n",
    "    \n",
    "We know that $f(x) = -e^{x-1}$ and we want to show that $u(x) = e^{-1}(e^x -1)$ is the exact solution of $\n",
    "−u''(x) = f(x)\\, ,\\quad u(0) = 0\\, ,\\quad u'(1) = 1$. Now we observe that \n",
    "\n",
    "$$u(0) = e^{-1}(e^0 -1) = e^{-1}(1 - 1) = 0$$ \n",
    "\n",
    "and \n",
    "\n",
    "$$u'(x) = e^{-1}(e^x)\\Rightarrow u'(1) = e^{-1}e = 1$$\n",
    "\n",
    "Hence, $u(x)$ satisfies the boundary conditions. Now, we have\n",
    "\n",
    "$$-u''(x) = -e^{-1}e^x = -e^{x-1} = f(x)$$\n",
    "\n",
    "Thus, $u(x)$ is the exact solution to the boundary value problem.\n",
    "\n",
    "Now, we compare the numerical approximations generated by schemes $S_1$ and $S_2$ below. We use the slightly changed code blocks from Chapter 2 notes to create $S_1$ and $S_2$"
   ]
  },
  {
   "cell_type": "code",
   "execution_count": 3,
   "metadata": {},
   "outputs": [
    {
     "name": "stdout",
     "output_type": "stream",
     "text": [
      "..........................................................\n",
      "   n        h           E_h        Rate of Convergence \n",
      "..........................................................\n",
      "   5    &   0.167  & 0.07955838   &            \\\\\n",
      "  10    &   0.091  & 0.04433077   &   0.9648   \\\\\n",
      "  20    &   0.048  & 0.02350113   &   0.9814   \\\\\n",
      "  40    &   0.024  & 0.01211421   &   0.9905   \\\\\n",
      "  80    &   0.012  & 0.00615211   &   0.9952   \\\\\n"
     ]
    }
   ],
   "source": [
    "# Basically modifying the codes from Chapter 2-Notes\n",
    "# S_1 \n",
    "\n",
    "n_trys = [5, 10, 20, 40, 80]\n",
    "E_h = np.zeros(5)\n",
    "h = np.zeros(5)\n",
    "alpha_h = np.zeros(5)\n",
    "\n",
    "count = 0\n",
    "print ('..........................................................')\n",
    "print ('   n        h           E_h        Rate of Convergence ' )\n",
    "print ('..........................................................')\n",
    "\n",
    "for n in n_trys:\n",
    "    A = np.zeros((n+1,n+1))\n",
    "    np.fill_diagonal(A,2)\n",
    "    A += np.diag(-np.ones(n),k=1)\n",
    "    A += np.diag(-np.ones(n),k=-1)\n",
    "    A[-1,-1] += -1\n",
    "    \n",
    "    x = np.linspace(0,1,n+2)\n",
    "    h[count] = x[1]-x[0]\n",
    "    b = h[count]**2 * -np.exp(x-1) \n",
    "    b[-1] = h[count]*1\n",
    "    \n",
    "    v = np.zeros(n+2)\n",
    "    v[1:] = np.linalg.solve(A, b[1:]) \n",
    "\n",
    "    u = np.exp(-1)*(np.exp(x)-1) \n",
    "    \n",
    "    E_h[count] = np.max(np.abs(u-v))\n",
    "    \n",
    "    if count == 0:\n",
    "        print (' %3d    &   %.3f  & %.8f   &         ' % (n, h[count], E_h[count]) + r'   \\\\')\n",
    "    else:\n",
    "        alpha_h[count] = np.log(E_h[count]/E_h[count-1])/np.log(h[count]/h[count-1])\n",
    "        print (' %3d    &   %.3f  & %.8f   &   %.4f ' % (n, h[count], E_h[count], alpha_h[count]) + r'  \\\\')\n",
    "    \n",
    "    \n",
    "    count +=1"
   ]
  },
  {
   "cell_type": "code",
   "execution_count": 20,
   "metadata": {},
   "outputs": [
    {
     "name": "stdout",
     "output_type": "stream",
     "text": [
      "..........................................................\n",
      "   n       h          E_h     &   Rate of Convergence\n",
      "..........................................................\n",
      "   5    &   0.167  & 0.00377496   &            \\\\\n",
      "  10    &   0.091  & 0.00112378   &   1.9990   \\\\\n",
      "  20    &   0.048  & 0.00030839   &   1.9997   \\\\\n",
      "  40    &   0.024  & 0.00008091   &   1.9999   \\\\\n",
      "  80    &   0.012  & 0.00002073   &   2.0000   \\\\\n"
     ]
    }
   ],
   "source": [
    "#S_2\n",
    "\n",
    "n_trys = [5, 10, 20, 40, 80]\n",
    "E_h = np.zeros(5)\n",
    "h = np.zeros(5)\n",
    "alpha_h = np.zeros(5)\n",
    "\n",
    "count = 0\n",
    "print ('..........................................................')\n",
    "print ('   n       h          E_h     &   Rate of Convergence')\n",
    "print ('..........................................................')\n",
    "for n in n_trys:\n",
    "    A = np.zeros((n+1,n+1))\n",
    "    np.fill_diagonal(A,2)\n",
    "    A += np.diag(-np.ones(n),k=1)\n",
    "    A += np.diag(-np.ones(n),k=-1)\n",
    "    A[-1,-2] += -1\n",
    "    \n",
    "    x = np.linspace(0,1,n+2)\n",
    "    h[count] = x[1]-x[0]\n",
    "    b = h[count]**2 * -np.exp(x-1) \n",
    "    b[-1] += 2*h[count]\n",
    "    \n",
    "    v = np.zeros(n+2)\n",
    "    v[1:] = np.linalg.solve(A, b[1:]) \n",
    "    u = np.exp(-1)*(np.exp(x)-1) \n",
    "    \n",
    "    E_h[count] = np.max(np.abs(u-v))\n",
    "    \n",
    "    if count == 0:\n",
    "        print (' %3d    &   %.3f  & %.8f   &         ' % (n, h[count], E_h[count]) + r'   \\\\')\n",
    "    else:\n",
    "        alpha_h[count] = np.log(E_h[count]/E_h[count-1])/np.log(h[count]/h[count-1])\n",
    "        print (' %3d    &   %.3f  & %.8f   &   %.4f ' % (n, h[count], E_h[count], alpha_h[count]) + r'  \\\\')\n",
    "    \n",
    "\n",
    "    count +=1"
   ]
  },
  {
   "cell_type": "markdown",
   "metadata": {},
   "source": [
    "It seems like $S_1$ would show linear convergence and $S_2$ would show quadratic convergence. We can probably see it by making graphs of the solutions. "
   ]
  },
  {
   "cell_type": "markdown",
   "metadata": {},
   "source": [
    "# Solution to Exercise 2.16 (a) and (b)\n",
    "\n"
   ]
  },
  {
   "cell_type": "markdown",
   "metadata": {
    "collapsed": true
   },
   "source": [
    "a) \n",
    "\n",
    "Let's define the approximation $\\{v\\}_{j=0}^{n+1}$ by requiring \n",
    "\n",
    "$$- \\frac{v_{j-1} - 2v_j + v_{j+1}}{h^2} = 1 \\quad \\text{for} \\quad j=1,2,\\ldots,n \\quad \\text{and} \\quad v_0 = v_{n+1}=0$$\n",
    "\n",
    "We then let $v_j = \\frac{x_j(1 − x_j)}{2}$ for $j=1,2,\\ldots,n$ and define $h=\\frac{1}{n+1}$. For $j=1$, we have \n",
    "\n",
    "$$- \\frac{v_0 - 2v_1 + v_2}{h^2} = - \\frac{0 - 2x_1(1-x_1)/2 - x_2(1-x_2)/2}{h^2} $$ \n",
    "\n",
    "$$= \\frac{2h^2}{2h^2} = 1$$\n",
    "\n",
    "Similarly, for $j=1,2,\\ldots,n-1$, we have\n",
    "\n",
    "$$- \\frac{v_{j-1} - 2v_j + v_{j+1}}{h^2}$$ \n",
    "\n",
    "$$= \\frac{-x_{j-1}(1-x_{j-1}) + 2x_j(1-x_j) - x_{j+1}(1-x_{j+1})}{2h^2}$$\n",
    "\n",
    "$$= \\frac{ h^2 + h^2}{2h^2} $$\n",
    "\n",
    "$$= \\frac{2h^2}{2h^2} = 1$$\n",
    "\n",
    "by omitting some intermediate rearranging steps.\n",
    "\n",
    "Finally, for $j=n$, we have \n",
    "\n",
    "$$- \\frac{v_{n-1} - 2v_n + v_{n+1}}{h^2} $$\n",
    "\n",
    "$$= \\frac{-x_{n-1}(1-x_{n-1}) + 2x_n(1-x_n) - 0)}{2h^2}$$\n",
    "\n",
    "$$= \\frac{-x_{n-1}+ x_{n-1}^2 + 2x_n- 2x_n^2}{2h^2} $$\n",
    "\n",
    "$$= \\frac{ -(n-1)h + (n-1)^2h^2 + 2nh - 2n^2h^2}{2h^2}$$\n",
    "\n",
    "$$= \\frac{(1 - nh - h + 2h^2) }{2h^2}$$\n",
    "\n",
    "$$= \\frac{(1 - (n+1)h + 2h^2) }{2h^2}$$ \n",
    "\n",
    "$$= \\frac{(1 - 1 + 2h^2) }{2h^2} = 1$$\n",
    "\n",
    "by omitting some intermediate rearranging steps.\n",
    "\n",
    "Hence, we showed that the finite difference solution is satisfy by $v_j$ for all $j=1,2,\\ldots,n$.\n",
    "\n",
    "\n",
    "\n",
    "b)\n",
    "\n",
    "Assume that the solution $u(x)$ of the problem is a polynomial of degree less or equal to three. We then easily see that the $u''(x)$ at most degree one. Therefore, by theorem 2.2 we have\n",
    "\n",
    "$$\\big|\\big| u-v \\big|\\big|_{h,\\infty} \\leq \\frac{\\big|\\big|f''\\big|\\big|_{\\infty}}{96} h^2$$\n",
    "\n",
    "where $u$ is the exact solution and $v$ is the approximation. Since our $f''=0$, we can see that the finite difference approximation would coincide with the exact solution at the grid points."
   ]
  },
  {
   "cell_type": "markdown",
   "metadata": {},
   "source": [
    "# Solution to Exercise 2.16 (c)\n",
    "\n"
   ]
  },
  {
   "cell_type": "markdown",
   "metadata": {
    "collapsed": true
   },
   "source": [
    "The assumption in (b) is valid if the function $f$ has degree at most 1 and continuous.\n",
    "    \n"
   ]
  },
  {
   "cell_type": "markdown",
   "metadata": {},
   "source": [
    "# Solution to Exercise 2.17\n"
   ]
  },
  {
   "cell_type": "code",
   "execution_count": 48,
   "metadata": {},
   "outputs": [
    {
     "name": "stdout",
     "output_type": "stream",
     "text": [
      ".............................................\n",
      "n    h        Error           Error Bound\n",
      ".............................................\n",
      "10 0.1 0.0527261833204 1.04166666667\n",
      "20 0.05 0.0137429037755 0.260416666667\n",
      "40 0.025 0.00347668559669 0.0651041666667\n",
      "80 0.0125 0.000871208569046 0.0162760416667\n",
      "160 0.00625 0.000217974056216 0.00406901041667\n"
     ]
    }
   ],
   "source": [
    "vector = np.array([9,19,39,79,159]) #since h=1/(n+1)\n",
    "\n",
    "print ('.............................................')\n",
    "print ('n    h        Error           Error Bound'   )\n",
    "print ('.............................................')\n",
    "    \n",
    "\n",
    "for n in vector:\n",
    "    \n",
    "    x = np.linspace(0,1,n+2)\n",
    "    \n",
    "    h = x[1]-x[0]\n",
    "    \n",
    "    f = (h**2)*100.*np.exp(-10.*x)[1:-1]\n",
    "    \n",
    "    u = 1. - (1. - np.exp(-10.))*x - np.exp(-10.*x)\n",
    "    \n",
    "    norm_of_sec_deri_f = np.linalg.norm( (100) * (-10) * (-10) * np.exp(-10*x),np.inf)\n",
    "    \n",
    "    Error_bound = h**2 * ( norm_of_sec_deri_f )/96.\n",
    "    \n",
    "    A = np.zeros((n,n))\n",
    "    \n",
    "    np.fill_diagonal(A,2)\n",
    "    \n",
    "    A += np.diag(-np.ones(n-1),-1)\n",
    "    \n",
    "    A += np.diag(-np.ones(n-1),1)\n",
    "    \n",
    "    v = np.linalg.solve(A,f)\n",
    "    \n",
    "    error = np.linalg.norm(u[1:-1] - v, np.inf)\n",
    "    \n",
    "    \n",
    "    print (n+1, 1/(n+1),error, Error_bound)\n",
    "    \n",
    "    \n"
   ]
  },
  {
   "cell_type": "markdown",
   "metadata": {},
   "source": [
    "There is no sharpness of the estimate because the error bound is very loose. However, we can see that error is decreasing at the same rate as the bound on the error. "
   ]
  }
 ],
 "metadata": {
  "anaconda-cloud": {},
  "kernelspec": {
   "display_name": "Python 3",
   "language": "python",
   "name": "python3"
  },
  "language_info": {
   "codemirror_mode": {
    "name": "ipython",
    "version": 3
   },
   "file_extension": ".py",
   "mimetype": "text/x-python",
   "name": "python",
   "nbconvert_exporter": "python",
   "pygments_lexer": "ipython3",
   "version": "3.6.3"
  }
 },
 "nbformat": 4,
 "nbformat_minor": 2
}
